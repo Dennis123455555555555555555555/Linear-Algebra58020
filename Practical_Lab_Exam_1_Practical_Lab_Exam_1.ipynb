{
  "nbformat": 4,
  "nbformat_minor": 0,
  "metadata": {
    "colab": {
      "name": "Practical Lab Exam 1 Practical Lab Exam 1",
      "provenance": [],
      "collapsed_sections": [],
      "authorship_tag": "ABX9TyO1P4U+G31IzfJRZb/djoDA",
      "include_colab_link": true
    },
    "kernelspec": {
      "name": "python3",
      "display_name": "Python 3"
    },
    "language_info": {
      "name": "python"
    }
  },
  "cells": [
    {
      "cell_type": "markdown",
      "metadata": {
        "id": "view-in-github",
        "colab_type": "text"
      },
      "source": [
        "<a href=\"https://colab.research.google.com/github/Dennis123455555555555555555555/Linear-Algebra58020/blob/main/Practical_Lab_Exam_1_Practical_Lab_Exam_1.ipynb\" target=\"_parent\"><img src=\"https://colab.research.google.com/assets/colab-badge.svg\" alt=\"Open In Colab\"/></a>"
      ]
    },
    {
      "cell_type": "markdown",
      "metadata": {
        "id": "j7Rpj2CjaCsy"
      },
      "source": [
        "a.WY"
      ]
    },
    {
      "cell_type": "code",
      "metadata": {
        "id": "jgZJgGNIIrw_"
      },
      "source": [
        "import numpy as np\n",
        "# a.)WY =  W * Y\n",
        "W = np.array([[1,-3,],[2,-2],[3,1]])\n",
        "Y = np.array([[1,2,0],[0,-1,2]])\n",
        "print(np.dot(W,Y))"
      ],
      "execution_count": null,
      "outputs": []
    },
    {
      "cell_type": "markdown",
      "metadata": {
        "id": "lF9hhqwUaFhk"
      },
      "source": [
        "b. z+z"
      ]
    },
    {
      "cell_type": "code",
      "metadata": {
        "id": "D_DsZORCI88S"
      },
      "source": [
        "import numpy as np\n",
        "z = np.array([[0,1],[2,3]])\n",
        "print(z+z)"
      ],
      "execution_count": null,
      "outputs": []
    },
    {
      "cell_type": "markdown",
      "metadata": {
        "id": "DocbT6MRaHvf"
      },
      "source": [
        "c.3X"
      ]
    },
    {
      "cell_type": "code",
      "metadata": {
        "id": "wnQt39f8JEi0"
      },
      "source": [
        "import numpy as np\n",
        "x = np.array([[3,2,1],[-1,2,3],[2,-1,1]])\n",
        "print(3*x)"
      ],
      "execution_count": null,
      "outputs": []
    },
    {
      "cell_type": "markdown",
      "metadata": {
        "id": "Z-IXqX0FaOOF"
      },
      "source": [
        "The product (YW)2 is not defined"
      ]
    },
    {
      "cell_type": "code",
      "metadata": {
        "id": "h_89wyU4KF4m"
      },
      "source": [
        "# a. The product (YW)2 is not defined.\n",
        "W = np.array([[1,-3,],[2,-2,],[3,1]])\n",
        "Y = np.array([[1,2,0],[0,-1,2]])\n",
        "\n",
        "YW = np.dot(Y,W)\n",
        "print(YW*YW)\n",
        "\n",
        "#Statement is false"
      ],
      "execution_count": null,
      "outputs": []
    },
    {
      "cell_type": "markdown",
      "metadata": {
        "id": "oXbBOBwAaRi9"
      },
      "source": [
        "b. WY – X"
      ]
    },
    {
      "cell_type": "code",
      "metadata": {
        "id": "-lS40mw8KViz"
      },
      "source": [
        "import numpy as np\n",
        "W = np.array ([[1,-3],[2,-2],[3,1]])\n",
        "Y = np.array ([[1,2,0],[0,-1,2]])\n",
        "X = np.array ([[3,2,1], [-1,2,3],[2,-1,1]])\n",
        "\n",
        "Final = np.dot(W,Y)\n",
        "print(np.subtract(Final,X))\n",
        "#Satement is true"
      ],
      "execution_count": null,
      "outputs": []
    },
    {
      "cell_type": "markdown",
      "metadata": {
        "id": "m6wPfI-kaUB2"
      },
      "source": [
        "YW – Z2 ="
      ]
    },
    {
      "cell_type": "code",
      "metadata": {
        "id": "8h-U7TeCLW3R"
      },
      "source": [
        "# c. YW – Z^2 =\n",
        "W = np.array([[1,-3,],[2,-2,],[3,1]])\n",
        "Y = np.array([[1,2,0],[0,-1,2]])\n",
        "Z = np.array([[0,1],[2,3]])\n",
        "YW = np.dot(Y,W)\n",
        "FZ = Z**2\n",
        "print(np.subtract(YW,FZ))\n",
        "\n",
        "#Statement is false"
      ],
      "execution_count": null,
      "outputs": []
    }
  ]
}