{
  "nbformat": 4,
  "nbformat_minor": 0,
  "metadata": {
    "colab": {
      "name": "Python Exercise 3.ipynb",
      "provenance": [],
      "authorship_tag": "ABX9TyMnCy49AyHDKjybbUYRw8bc",
      "include_colab_link": true
    },
    "kernelspec": {
      "name": "python3",
      "display_name": "Python 3"
    },
    "language_info": {
      "name": "python"
    }
  },
  "cells": [
    {
      "cell_type": "markdown",
      "metadata": {
        "id": "view-in-github",
        "colab_type": "text"
      },
      "source": [
        "<a href=\"https://colab.research.google.com/github/Dennis123455555555555555555555/Linear-Algebra58020/blob/main/Python_Exercise_3.ipynb\" target=\"_parent\"><img src=\"https://colab.research.google.com/assets/colab-badge.svg\" alt=\"Open In Colab\"/></a>"
      ]
    },
    {
      "cell_type": "markdown",
      "metadata": {
        "id": "PLgvZ3YEqzKD"
      },
      "source": [
        "Linear Transformation"
      ]
    },
    {
      "cell_type": "code",
      "metadata": {
        "colab": {
          "base_uri": "https://localhost:8080/"
        },
        "id": "HT3gH9eTqXcr",
        "outputId": "db0d5ce5-42b3-45a1-ea88-4d7a43fb991d"
      },
      "source": [
        "import numpy as np\n",
        "A = np.array([[1,1,1],[1,2,2],[1,2,3]])\n",
        "print(A)\n",
        "B = np.array([5,6,8])\n",
        "print(B)\n",
        "\n",
        "#AA^-1X = BA^-1\n",
        "X = np.linalg.inv(A).dot(B)\n",
        "print(X)"
      ],
      "execution_count": null,
      "outputs": [
        {
          "output_type": "stream",
          "name": "stdout",
          "text": [
            "[[1 1 1]\n",
            " [1 2 2]\n",
            " [1 2 3]]\n",
            "[5 6 8]\n",
            "[ 4. -1.  2.]\n"
          ]
        }
      ]
    }
  ]
}