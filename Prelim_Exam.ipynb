{
  "nbformat": 4,
  "nbformat_minor": 0,
  "metadata": {
    "colab": {
      "name": "Prelim Exam.ipynb",
      "provenance": [],
      "authorship_tag": "ABX9TyM2HzNxAW2DvFQsFWXrhtTa",
      "include_colab_link": true
    },
    "kernelspec": {
      "name": "python3",
      "display_name": "Python 3"
    },
    "language_info": {
      "name": "python"
    }
  },
  "cells": [
    {
      "cell_type": "markdown",
      "metadata": {
        "id": "view-in-github",
        "colab_type": "text"
      },
      "source": [
        "<a href=\"https://colab.research.google.com/github/Dennis123455555555555555555555/Linear-Algebra58020/blob/main/Prelim_Exam.ipynb\" target=\"_parent\"><img src=\"https://colab.research.google.com/assets/colab-badge.svg\" alt=\"Open In Colab\"/></a>"
      ]
    },
    {
      "cell_type": "markdown",
      "metadata": {
        "id": "Z3GKX990mwj-"
      },
      "source": [
        "Question 1"
      ]
    },
    {
      "cell_type": "code",
      "metadata": {
        "colab": {
          "base_uri": "https://localhost:8080/"
        },
        "id": "tOoGvO3_i7PP",
        "outputId": "20de74ee-9538-41fd-d530-2a4e07d3c4d1"
      },
      "source": [
        "import numpy as np\n",
        "C = np.array([[1,1,1,1],[1,1,1,1],[1,2,2,1],[1,2,2,1]])\n",
        "print(C)\n",
        "\n",
        "print(\"(1/2 are the diagonal elements \")\n",
        "C = np.diagonal([[1,1,1,1],[1,1,1,1],[1,2,2,1],[1,2,2,1]])\n",
        "print(C)"
      ],
      "execution_count": 21,
      "outputs": [
        {
          "output_type": "stream",
          "name": "stdout",
          "text": [
            "[[1 1 1 1]\n",
            " [1 1 1 1]\n",
            " [1 2 2 1]\n",
            " [1 2 2 1]]\n",
            "(1/2 are the diagonal elements \n",
            "[1 1 2 1]\n"
          ]
        }
      ]
    },
    {
      "cell_type": "markdown",
      "metadata": {
        "id": "UX7YI22Lryh6"
      },
      "source": [
        "Question 2"
      ]
    },
    {
      "cell_type": "code",
      "metadata": {
        "colab": {
          "base_uri": "https://localhost:8080/"
        },
        "id": "fGfc5op2r2JI",
        "outputId": "4cb960b6-2b01-4308-9c6c-8b46b0aa81b7"
      },
      "source": [
        "C = np.array([[1,1,1,1],[1,1,1,1],[1,2,2,1],[1,2,2,1]])\n",
        "print(\"values of each element of question 1\")\n",
        "print(C)\n",
        "\n",
        "print(\"value of the Elements of question 1.\")\n",
        "letsdoubleit = C*2\n",
        "print(letsdoubleit)"
      ],
      "execution_count": 22,
      "outputs": [
        {
          "output_type": "stream",
          "name": "stdout",
          "text": [
            "values of each element of question 1\n",
            "[[1 1 1 1]\n",
            " [1 1 1 1]\n",
            " [1 2 2 1]\n",
            " [1 2 2 1]]\n",
            "value of the Elements of question 1.\n",
            "[[2 2 2 2]\n",
            " [2 2 2 2]\n",
            " [2 4 4 2]\n",
            " [2 4 4 2]]\n"
          ]
        }
      ]
    },
    {
      "cell_type": "markdown",
      "metadata": {
        "id": "zCeOB5wyo-n5"
      },
      "source": [
        "Question 3"
      ]
    },
    {
      "cell_type": "code",
      "metadata": {
        "colab": {
          "base_uri": "https://localhost:8080/"
        },
        "id": "8g7BkEM8o926",
        "outputId": "2a26917a-e864-4a93-94ae-fa2ce18bfc3f"
      },
      "source": [
        "a = np.array ([2,7,4])\n",
        "b = np.array ([3,9,8])\n",
        "output = np.cross(a,b)\n",
        "print(output)"
      ],
      "execution_count": 13,
      "outputs": [
        {
          "output_type": "stream",
          "name": "stdout",
          "text": [
            "[20 -4 -3]\n"
          ]
        }
      ]
    }
  ]
}