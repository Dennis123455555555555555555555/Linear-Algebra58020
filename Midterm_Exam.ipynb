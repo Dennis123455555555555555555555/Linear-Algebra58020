{
  "nbformat": 4,
  "nbformat_minor": 0,
  "metadata": {
    "colab": {
      "name": "Midterm Exam",
      "provenance": [],
      "authorship_tag": "ABX9TyMCh1hF2B3Ubzen4Px/lmqG",
      "include_colab_link": true
    },
    "kernelspec": {
      "name": "python3",
      "display_name": "Python 3"
    },
    "language_info": {
      "name": "python"
    }
  },
  "cells": [
    {
      "cell_type": "markdown",
      "metadata": {
        "id": "view-in-github",
        "colab_type": "text"
      },
      "source": [
        "<a href=\"https://colab.research.google.com/github/Dennis123455555555555555555555/Linear-Algebra58020/blob/main/Midterm_Exam.ipynb\" target=\"_parent\"><img src=\"https://colab.research.google.com/assets/colab-badge.svg\" alt=\"Open In Colab\"/></a>"
      ]
    },
    {
      "cell_type": "markdown",
      "metadata": {
        "id": "yNqiKS3JHJjZ"
      },
      "source": [
        "Question 1. Create a Python code that displays a square matrix whose length is 5 "
      ]
    },
    {
      "cell_type": "code",
      "metadata": {
        "colab": {
          "base_uri": "https://localhost:8080/"
        },
        "id": "qDz1jhasHIpt",
        "outputId": "a4264ac7-8d85-4dfe-d9bd-8b96842cebee"
      },
      "source": [
        "import numpy as np\n",
        "\n",
        "square_matrix = np.identity(5)\n",
        "\n",
        "print(f'Square Matrix whose length is 5: \\n{square_matrix}')"
      ],
      "execution_count": 11,
      "outputs": [
        {
          "output_type": "stream",
          "name": "stdout",
          "text": [
            "Square Matrix whose length is 5: \n",
            "[[1. 0. 0. 0. 0.]\n",
            " [0. 1. 0. 0. 0.]\n",
            " [0. 0. 1. 0. 0.]\n",
            " [0. 0. 0. 1. 0.]\n",
            " [0. 0. 0. 0. 1.]]\n"
          ]
        }
      ]
    },
    {
      "cell_type": "markdown",
      "metadata": {
        "id": "Sizi8VDvHQBx"
      },
      "source": [
        "Question 2. Create a Python code that displays a square matrix whose elements below the principal diagonal are zero"
      ]
    },
    {
      "cell_type": "code",
      "metadata": {
        "colab": {
          "base_uri": "https://localhost:8080/"
        },
        "id": "7K-R5daeHMyy",
        "outputId": "970d47b0-b784-4b04-ab8e-913f49190ddf"
      },
      "source": [
        "import numpy as np\n",
        "\n",
        "A = np.array([[1,2,3,4,5],[0,6,7,8,9],[0,0,10,11,12],[0,0,0,13,14],[0,0,0,0,15]])\n",
        "print(A)"
      ],
      "execution_count": 12,
      "outputs": [
        {
          "output_type": "stream",
          "name": "stdout",
          "text": [
            "[[ 1  2  3  4  5]\n",
            " [ 0  6  7  8  9]\n",
            " [ 0  0 10 11 12]\n",
            " [ 0  0  0 13 14]\n",
            " [ 0  0  0  0 15]]\n"
          ]
        }
      ]
    },
    {
      "cell_type": "markdown",
      "metadata": {
        "id": "WJbKlpjCHfWa"
      },
      "source": [
        "Question 3. Create a Python code that displays a square matrix which is symmetrical"
      ]
    },
    {
      "cell_type": "code",
      "metadata": {
        "colab": {
          "base_uri": "https://localhost:8080/"
        },
        "id": "yihc1Pr-HeqB",
        "outputId": "f5f9bfe2-d4e4-4677-caed-16a65a01e591"
      },
      "source": [
        "import numpy as np\n",
        "\n",
        "square_matrix = np.array ([[6,7,8,9,10],\n",
        "[7,6,7,8,9],\n",
        "[8,7,6,7,8],\n",
        "[9,8,7,6,7],\n",
        "[10,9,8,7,6]])\n",
        "#prints a square matrix which is symmetrical\n",
        "\n",
        "print('A square matrix which is symmetrical')\n",
        "print(square_matrix)"
      ],
      "execution_count": 14,
      "outputs": [
        {
          "output_type": "stream",
          "name": "stdout",
          "text": [
            "A square matrix which is symmetrical\n",
            "[[ 6  7  8  9 10]\n",
            " [ 7  6  7  8  9]\n",
            " [ 8  7  6  7  8]\n",
            " [ 9  8  7  6  7]\n",
            " [10  9  8  7  6]]\n"
          ]
        }
      ]
    },
    {
      "cell_type": "markdown",
      "metadata": {
        "id": "ygx4rBofHZWj"
      },
      "source": [
        "Question 4. What is the inverse of matrix C? Show your solution by python coding"
      ]
    },
    {
      "cell_type": "code",
      "metadata": {
        "colab": {
          "base_uri": "https://localhost:8080/"
        },
        "id": "36UIPvHtA91-",
        "outputId": "ae6a990b-6249-4c32-e933-fcc447e0e65b"
      },
      "source": [
        "A = np.array([[1,2,3], [2,3,3],[3,4, -2]])\n",
        "B = np.linalg.inv(A)\n",
        "print(A)\n",
        "print(B)"
      ],
      "execution_count": 2,
      "outputs": [
        {
          "output_type": "stream",
          "name": "stdout",
          "text": [
            "[[ 1  2  3]\n",
            " [ 2  3  3]\n",
            " [ 3  4 -2]]\n",
            "[[-3.6  3.2 -0.6]\n",
            " [ 2.6 -2.2  0.6]\n",
            " [-0.2  0.4 -0.2]]\n"
          ]
        }
      ]
    },
    {
      "cell_type": "markdown",
      "metadata": {
        "id": "LNbZhrbyCI44"
      },
      "source": [
        "Question 5. What is the determinant of the given matrix in Question 4? Show your solution by python coding."
      ]
    },
    {
      "cell_type": "code",
      "metadata": {
        "colab": {
          "base_uri": "https://localhost:8080/"
        },
        "id": "EtyiIVW5CIG-",
        "outputId": "792346f2-e122-407a-85bc-b5bc192b1d96"
      },
      "source": [
        "A = np.array([[1,2,3], [2,3,3],[3,4, -2]])\n",
        "B = np.linalg.det(A)\n",
        "print(A)\n",
        "print(B)"
      ],
      "execution_count": 3,
      "outputs": [
        {
          "output_type": "stream",
          "name": "stdout",
          "text": [
            "[[ 1  2  3]\n",
            " [ 2  3  3]\n",
            " [ 3  4 -2]]\n",
            "5.000000000000001\n"
          ]
        }
      ]
    },
    {
      "cell_type": "markdown",
      "metadata": {
        "id": "4tKvBzNJFttK"
      },
      "source": [
        "Question 6. Find the roots of the linear equations by showing its python codes "
      ]
    },
    {
      "cell_type": "code",
      "metadata": {
        "colab": {
          "base_uri": "https://localhost:8080/"
        },
        "id": "ts-sR4dYFkT7",
        "outputId": "ee49098b-b12b-4b69-ef87-506c0c5ec301"
      },
      "source": [
        "import numpy as np \n",
        "\n",
        "Equations = np.array([[5,4,1],\n",
        "[10,9,4],\n",
        "[10,13,15]])\n",
        "\n",
        "Constants = np.array([[[3.4],\n",
        "[8.8],\n",
        "[19.2]]])\n",
        "\n",
        "roots = np.linalg.inv(Equations) @ Constants\n",
        "\n",
        "print(roots)"
      ],
      "execution_count": 9,
      "outputs": [
        {
          "output_type": "stream",
          "name": "stdout",
          "text": [
            "[[[0.2]\n",
            "  [0.4]\n",
            "  [0.8]]]\n"
          ]
        }
      ]
    }
  ]
}