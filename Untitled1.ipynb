{
  "nbformat": 4,
  "nbformat_minor": 0,
  "metadata": {
    "colab": {
      "name": "Untitled1.ipynb",
      "provenance": [],
      "authorship_tag": "ABX9TyMAiEAICts9cU65ho9933xC",
      "include_colab_link": true
    },
    "kernelspec": {
      "name": "python3",
      "display_name": "Python 3"
    },
    "language_info": {
      "name": "python"
    }
  },
  "cells": [
    {
      "cell_type": "markdown",
      "metadata": {
        "id": "view-in-github",
        "colab_type": "text"
      },
      "source": [
        "<a href=\"https://colab.research.google.com/github/Dennis123455555555555555555555/Linear-Algebra58020/blob/main/Untitled1.ipynb\" target=\"_parent\"><img src=\"https://colab.research.google.com/assets/colab-badge.svg\" alt=\"Open In Colab\"/></a>"
      ]
    },
    {
      "cell_type": "code",
      "metadata": {
        "colab": {
          "base_uri": "https://localhost:8080/"
        },
        "id": "sj8VqDTFZiCp",
        "outputId": "3b75aa37-038d-4831-b0d9-2a035d59f450"
      },
      "source": [
        "import numpy as np\n",
        "A = np.array([[2,1],[0,1]])\n",
        "print(A)\n",
        "inverse = (np.linalg.inv(A))\n",
        "print(inverse)"
      ],
      "execution_count": 26,
      "outputs": [
        {
          "output_type": "stream",
          "name": "stdout",
          "text": [
            "[[2 1]\n",
            " [0 1]]\n",
            "[[ 0.5 -0.5]\n",
            " [ 0.   1. ]]\n"
          ]
        }
      ]
    },
    {
      "cell_type": "code",
      "metadata": {
        "colab": {
          "base_uri": "https://localhost:8080/"
        },
        "id": "VnVwZa6qZrK8",
        "outputId": "ab91976f-4778-4245-cab4-ed0d1a4334e6"
      },
      "source": [
        "B = np.dot(A,inverse)\n",
        "print(B)"
      ],
      "execution_count": 27,
      "outputs": [
        {
          "output_type": "stream",
          "name": "stdout",
          "text": [
            "[[1. 0.]\n",
            " [0. 1.]]\n"
          ]
        }
      ]
    },
    {
      "cell_type": "code",
      "metadata": {
        "colab": {
          "base_uri": "https://localhost:8080/"
        },
        "id": "z1NIpnR1Zt-0",
        "outputId": "a3f8150d-1365-4966-d890-d08d75849831"
      },
      "source": [
        "#Python Programming to Transpose a 3x3 Matrix A = ([[1,2,3],[5,-6,7],[8,9,8]])\n",
        "A = np.array([[1,2,3],[5,-6,7],[8,9,8]])\n",
        "print(A)\n",
        "B = np.transpose(A)\n",
        "print(B)"
      ],
      "execution_count": 23,
      "outputs": [
        {
          "output_type": "stream",
          "name": "stdout",
          "text": [
            "[[ 1  2  3]\n",
            " [ 5 -6  7]\n",
            " [ 8  9  8]]\n",
            "[[ 1  5  8]\n",
            " [ 2 -6  9]\n",
            " [ 3  7  8]]\n"
          ]
        }
      ]
    },
    {
      "cell_type": "code",
      "metadata": {
        "colab": {
          "base_uri": "https://localhost:8080/"
        },
        "id": "hfMvM0J9ZwKq",
        "outputId": "5b3e0e58-aeef-4069-da05-a019fa95cc36"
      },
      "source": [
        "#Python Programming to Inverse a 3x3 Matrix A = ([[1,2,3],[5,-6,7],[8,9,8]])\n",
        "A = np.array([[1,2,3],[5,-6,7],[8,9,8]])\n",
        "print(A)\n",
        "inverse = (np.linalg.inv(A))\n",
        "print(inverse)"
      ],
      "execution_count": 28,
      "outputs": [
        {
          "output_type": "stream",
          "name": "stdout",
          "text": [
            "[[ 1  2  3]\n",
            " [ 5 -6  7]\n",
            " [ 8  9  8]]\n",
            "[[-0.555  0.055  0.16 ]\n",
            " [ 0.08  -0.08   0.04 ]\n",
            " [ 0.465  0.035 -0.08 ]]\n"
          ]
        }
      ]
    }
  ]
}